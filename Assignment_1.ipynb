{
  "nbformat": 4,
  "nbformat_minor": 0,
  "metadata": {
    "colab": {
      "provenance": [],
      "collapsed_sections": [
        "ZwBMt6VJGeW-",
        "c1p1JzJWGhvH",
        "Sgh3esHf5Mmn",
        "7FYVCtRh6tvj",
        "ZKHPfHa962C-",
        "_uE1UbuG61cB",
        "eyiLYqgo7Kcv",
        "71-KPDCE7Kc0",
        "y7WAezGP7LX-",
        "-nGbUYoTs29F"
      ],
      "include_colab_link": true
    },
    "kernelspec": {
      "name": "python3",
      "display_name": "Python 3"
    },
    "language_info": {
      "name": "python"
    }
  },
  "cells": [
    {
      "cell_type": "markdown",
      "metadata": {
        "id": "view-in-github",
        "colab_type": "text"
      },
      "source": [
        "<a href=\"https://colab.research.google.com/github/ntp3105/IISc-CCE-ML-AI-MLOps/blob/main/Assignment_1.ipynb\" target=\"_parent\"><img src=\"https://colab.research.google.com/assets/colab-badge.svg\" alt=\"Open In Colab\"/></a>"
      ]
    },
    {
      "cell_type": "markdown",
      "source": [
        "# Practical AI and MLOps : Assignment 1"
      ],
      "metadata": {
        "id": "WA4bucbhF6wg"
      }
    },
    {
      "cell_type": "markdown",
      "source": [
        "## Import libraries and fetch data"
      ],
      "metadata": {
        "id": "gApLH-475U9w"
      }
    },
    {
      "cell_type": "code",
      "source": [
        "## DO NOT EDIT\n",
        "import numpy as np\n",
        "import pickle\n",
        "\n",
        "!wget --no-check-certificate 'https://docs.google.com/uc?export=download&id=1-4LzDDmpH-v9mIgwDqa6cSF5XrVm-SXg' -O linear_regression.pkl\n",
        "!wget --no-check-certificate 'https://docs.google.com/uc?export=download&id=1-AtCVwrcpgFCvAD3gwkUz812DIxqK338' -O logistic_regression.pkl\n",
        "\n",
        "X1_train, X1_test, Y1_train, Y1_test, X2_train, X2_test, Y2_train, Y2_test = [[] for _ in range(8)]\n",
        "\n",
        "with open(\"/content/linear_regression.pkl\", 'rb') as f:\n",
        "    X1_train, X1_test, Y1_train, Y1_test = pickle.load(f)\n",
        "\n",
        "with open(\"/content/logistic_regression.pkl\", 'rb') as f:\n",
        "    X2_train, X2_test, Y2_train, Y2_test = pickle.load(f)"
      ],
      "metadata": {
        "id": "15YVgp7KNjD8",
        "colab": {
          "base_uri": "https://localhost:8080/"
        },
        "outputId": "1488c9b2-ae64-4f9d-f67e-61ed640eaaeb"
      },
      "execution_count": 42,
      "outputs": [
        {
          "output_type": "stream",
          "name": "stdout",
          "text": [
            "--2023-09-02 09:24:41--  https://docs.google.com/uc?export=download&id=1-4LzDDmpH-v9mIgwDqa6cSF5XrVm-SXg\n",
            "Resolving docs.google.com (docs.google.com)... 74.125.137.113, 74.125.137.139, 74.125.137.101, ...\n",
            "Connecting to docs.google.com (docs.google.com)|74.125.137.113|:443... connected.\n",
            "HTTP request sent, awaiting response... 303 See Other\n",
            "Location: https://doc-10-0s-docs.googleusercontent.com/docs/securesc/ha0ro937gcuc7l7deffksulhg5h7mbp1/vqo782kah22jvtc7goao0htr4drucdu0/1693646625000/06549736550030827657/*/1-4LzDDmpH-v9mIgwDqa6cSF5XrVm-SXg?e=download&uuid=c1dca6c6-b37a-4071-9cfc-c2b895164ebe [following]\n",
            "Warning: wildcards not supported in HTTP.\n",
            "--2023-09-02 09:24:41--  https://doc-10-0s-docs.googleusercontent.com/docs/securesc/ha0ro937gcuc7l7deffksulhg5h7mbp1/vqo782kah22jvtc7goao0htr4drucdu0/1693646625000/06549736550030827657/*/1-4LzDDmpH-v9mIgwDqa6cSF5XrVm-SXg?e=download&uuid=c1dca6c6-b37a-4071-9cfc-c2b895164ebe\n",
            "Resolving doc-10-0s-docs.googleusercontent.com (doc-10-0s-docs.googleusercontent.com)... 142.251.2.132, 2607:f8b0:4023:c0d::84\n",
            "Connecting to doc-10-0s-docs.googleusercontent.com (doc-10-0s-docs.googleusercontent.com)|142.251.2.132|:443... connected.\n",
            "HTTP request sent, awaiting response... 200 OK\n",
            "Length: 1847 (1.8K) [application/octet-stream]\n",
            "Saving to: ‘linear_regression.pkl’\n",
            "\n",
            "linear_regression.p 100%[===================>]   1.80K  --.-KB/s    in 0s      \n",
            "\n",
            "2023-09-02 09:24:41 (72.2 MB/s) - ‘linear_regression.pkl’ saved [1847/1847]\n",
            "\n",
            "--2023-09-02 09:24:41--  https://docs.google.com/uc?export=download&id=1-AtCVwrcpgFCvAD3gwkUz812DIxqK338\n",
            "Resolving docs.google.com (docs.google.com)... 74.125.137.113, 74.125.137.139, 74.125.137.101, ...\n",
            "Connecting to docs.google.com (docs.google.com)|74.125.137.113|:443... connected.\n",
            "HTTP request sent, awaiting response... 303 See Other\n",
            "Location: https://doc-0o-0s-docs.googleusercontent.com/docs/securesc/ha0ro937gcuc7l7deffksulhg5h7mbp1/i9qln4ibrc1s35u04ifnldn6udc1d270/1693646625000/06549736550030827657/*/1-AtCVwrcpgFCvAD3gwkUz812DIxqK338?e=download&uuid=1c669403-2b37-438b-8c07-de10c2ffbbe2 [following]\n",
            "Warning: wildcards not supported in HTTP.\n",
            "--2023-09-02 09:24:42--  https://doc-0o-0s-docs.googleusercontent.com/docs/securesc/ha0ro937gcuc7l7deffksulhg5h7mbp1/i9qln4ibrc1s35u04ifnldn6udc1d270/1693646625000/06549736550030827657/*/1-AtCVwrcpgFCvAD3gwkUz812DIxqK338?e=download&uuid=1c669403-2b37-438b-8c07-de10c2ffbbe2\n",
            "Resolving doc-0o-0s-docs.googleusercontent.com (doc-0o-0s-docs.googleusercontent.com)... 142.251.2.132, 2607:f8b0:4023:c0d::84\n",
            "Connecting to doc-0o-0s-docs.googleusercontent.com (doc-0o-0s-docs.googleusercontent.com)|142.251.2.132|:443... connected.\n",
            "HTTP request sent, awaiting response... 200 OK\n",
            "Length: 17088 (17K) [application/octet-stream]\n",
            "Saving to: ‘logistic_regression.pkl’\n",
            "\n",
            "logistic_regression 100%[===================>]  16.69K  --.-KB/s    in 0s      \n",
            "\n",
            "2023-09-02 09:24:42 (84.9 MB/s) - ‘logistic_regression.pkl’ saved [17088/17088]\n",
            "\n"
          ]
        }
      ]
    },
    {
      "cell_type": "code",
      "source": [
        "X1_train = np.resize(X1_train, (len(X1_train), 1))\n",
        "X1_test =  np.resize(X1_test,  (len(X1_test), 1))\n",
        "Y1_train = np.resize(Y1_train, (len(Y1_train), 1))\n",
        "Y1_test =  np.resize(Y1_test,  (len(Y1_test), 1))\n",
        "print(X1_train.shape)\n",
        "print(X1_test.shape)\n",
        "print(Y1_train.shape)\n",
        "print(Y1_test.shape)"
      ],
      "metadata": {
        "colab": {
          "base_uri": "https://localhost:8080/"
        },
        "id": "pQ2uhp46S71m",
        "outputId": "8799969f-3a2a-48b4-f3b8-de222c61bab4"
      },
      "execution_count": 43,
      "outputs": [
        {
          "output_type": "stream",
          "name": "stdout",
          "text": [
            "(70, 1)\n",
            "(30, 1)\n",
            "(70, 1)\n",
            "(30, 1)\n"
          ]
        }
      ]
    },
    {
      "cell_type": "code",
      "source": [
        "Y2_train = np.resize(Y2_train, (len(Y2_train), 1))\n",
        "Y2_test =  np.resize(Y2_test,  (len(Y2_test), 1))\n",
        "print(X2_train.shape)\n",
        "print(X2_test.shape)\n",
        "print(Y2_train.shape)\n",
        "print(Y2_test.shape)"
      ],
      "metadata": {
        "colab": {
          "base_uri": "https://localhost:8080/"
        },
        "id": "ePFgBZx9S-rV",
        "outputId": "a8f88246-b84a-4be1-ac38-7807b21306ce"
      },
      "execution_count": 44,
      "outputs": [
        {
          "output_type": "stream",
          "name": "stdout",
          "text": [
            "(70, 20)\n",
            "(30, 20)\n",
            "(70, 1)\n",
            "(30, 1)\n"
          ]
        }
      ]
    },
    {
      "cell_type": "code",
      "source": [
        "print((X1_train**-1).shape)\n",
        "print((X1_train).shape)\n",
        "print(X1_test[0:5])\n",
        "print(Y1_train.shape)\n",
        "print(Y1_test[0:5])"
      ],
      "metadata": {
        "colab": {
          "base_uri": "https://localhost:8080/"
        },
        "id": "Rz0K3Rh-TE7i",
        "outputId": "18a30366-88ff-4deb-e6c8-c79da2bd2c87"
      },
      "execution_count": 45,
      "outputs": [
        {
          "output_type": "stream",
          "name": "stdout",
          "text": [
            "(70, 1)\n",
            "(70, 1)\n",
            "[[ 6.26850875]\n",
            " [-5.75615029]\n",
            " [-5.98513959]\n",
            " [-9.76278328]\n",
            " [-6.04948187]]\n",
            "(70, 1)\n",
            "[[ 291.87875938]\n",
            " [-163.34294373]\n",
            " [-184.56229109]\n",
            " [-844.96063406]\n",
            " [-190.84148613]]\n"
          ]
        }
      ]
    },
    {
      "cell_type": "code",
      "source": [
        "print(X2_train[0])\n",
        "print(X2_test[0])\n",
        "print(Y2_train[0:5])\n",
        "print(Y2_test[0:5])"
      ],
      "metadata": {
        "colab": {
          "base_uri": "https://localhost:8080/"
        },
        "id": "pzudv35bTQ1i",
        "outputId": "f36ad47a-ecff-4684-fde2-dddb4d480dc5"
      },
      "execution_count": 46,
      "outputs": [
        {
          "output_type": "stream",
          "name": "stdout",
          "text": [
            "[-0.67857138  2.7670727   2.03131422  0.3322455  -1.2361682  -0.48420497\n",
            " -1.6533102   0.17205938 -1.14020401 -1.02420001 -1.41826043  0.26769137\n",
            "  0.39235085  0.49597238 -2.04503375  0.75743566  2.50947819  0.53326592\n",
            "  0.92774064 -1.3631717 ]\n",
            "[ 1.59980278  0.34209474  1.39349879 -1.44936033 -0.94399061  0.00816769\n",
            " -0.87028399 -1.49635521  0.66575811  1.06385996 -1.73467213  0.05441906\n",
            " -0.05293944  0.82191122  0.04120958 -1.71024922  0.49349984  0.124863\n",
            " -0.22401342  0.47682353]\n",
            "[[0]\n",
            " [1]\n",
            " [1]\n",
            " [0]\n",
            " [0]]\n",
            "[[0]\n",
            " [0]\n",
            " [0]\n",
            " [0]\n",
            " [1]]\n"
          ]
        }
      ]
    },
    {
      "cell_type": "markdown",
      "source": [
        "## Problem 1: Linear Regression (2 Marks)"
      ],
      "metadata": {
        "id": "qMLBBS5ZGWUU"
      }
    },
    {
      "cell_type": "markdown",
      "source": [
        "Train a linear regression model for the above set of data. Use MSE(Mean Squared Error) as the loss function.\n",
        "\n",
        "Print out the train accuracy and test accuracy.\n",
        "\n",
        "**Data**: X1_train, X1_test, Y1_train, Y1_test"
      ],
      "metadata": {
        "id": "QUoMW8UzcLcO"
      }
    },
    {
      "cell_type": "code",
      "source": [
        "### Write your code here\n",
        "## Solve the question using normal equation\n",
        "# Normal equation is Y1_train = regression coefficients or theta * X1_train\n",
        "# theta = Y1_train * inv(X1_train)\n",
        "theta = np.dot(Y1_train.T,(X1_train)**-1)\n",
        "print(\"theta:\", theta)\n",
        "\n",
        "## Define the hypothesis function for linear regression\n",
        "#Answer: Hypothesis y_hat =  beta_1*X1_train\n",
        "#Cost_function = (np.sum(Y1_train - (bias + weight_1*X1_train) ))/len(Y1_train)\n",
        "#print(Y1_train[0:5])\n",
        "\n",
        "## Use linear regression to train the model\n",
        "\n",
        "Regression_coefficient = (np.dot(X1_train.T,X1_train)**-1)*np.dot(X1_train.T,Y1_train)\n",
        "print(\"Regression_coefficient: \", Regression_coefficient)\n",
        "Y1_Lin_NoBias = Regression_coefficient*X1_train\n",
        "print(Y1_Lin_NoBias.shape)\n",
        "## Compute the training and testing loss using MSE error\n",
        "Post_training_error = np.sum((Y1_train - Regression_coefficient*X1_train)**2)/len(Y1_train)\n",
        "#print(\"Post Training Error: \", Post_training_error)\n",
        "\n",
        "test_error = np.sum((Y1_test - Regression_coefficient*X1_test)**2)/len(Y1_test)\n",
        "## Print the training and testing loss\n",
        "## update the below two variables to print the model's loss\n",
        "loss_train = Post_training_error\n",
        "loss_test = test_error\n",
        "\n",
        "print(\"Linear Regression\")\n",
        "print(\"Training Loss: \", loss_train)\n",
        "print(\"Testing  Loss: \", loss_test)"
      ],
      "metadata": {
        "colab": {
          "base_uri": "https://localhost:8080/"
        },
        "id": "SAp_AnW7cEhx",
        "outputId": "8aed7c32-3357-4758-b0f5-3319006159ff"
      },
      "execution_count": 47,
      "outputs": [
        {
          "output_type": "stream",
          "name": "stdout",
          "text": [
            "theta: [[2781.59003867]]\n",
            "Regression_coefficient:  [[66.1311054]]\n",
            "(70, 1)\n",
            "Linear Regression\n",
            "Training Loss:  27415.39655697824\n",
            "Testing  Loss:  44432.264978342\n"
          ]
        }
      ]
    },
    {
      "cell_type": "code",
      "source": [
        "ones_column = np.ones((X1_train.shape[0], 1))\n",
        "X1_train_mod = np.hstack((ones_column, X1_train))\n",
        "\n",
        "ones_column = np.ones((X1_test.shape[0], 1))\n",
        "X1_test_mod = np.hstack((ones_column, X1_test))\n",
        "\n",
        "Y1_train_mod = np.resize(Y1_train, (len(Y1_train), 1))\n",
        "Y1_test_mod =  np.resize(Y1_test,  (len(Y1_test), 1))"
      ],
      "metadata": {
        "id": "-gyiUVn3Vwna"
      },
      "execution_count": 48,
      "outputs": []
    },
    {
      "cell_type": "code",
      "source": [
        "#This code snippet is to implement simple linear regression by implementing bias along with regression coefficient.\n",
        "#X1_train and X1_test has been modified to add 2nd column as ones, because x value is 1 for bias values.\n",
        "\n",
        "Regression_coefficients = np.dot(np.linalg.pinv(np.dot(X1_train_mod.T, X1_train_mod)), np.dot(X1_train_mod.T, Y1_train_mod))\n",
        "print(\"Regression_coefficient: \", Regression_coefficients)\n",
        "Y1_Lin_Bias = np.dot(X1_train_mod, Regression_coefficients)\n",
        "print(Y1_Lin_Bias.shape)\n",
        "\n",
        "## Compute the training and testing loss using MSE error\n",
        "Post_training_error = np.sum((Y1_train_mod - np.dot(X1_train_mod, Regression_coefficients))**2)/len(Y1_train_mod)\n",
        "print(\"Post Training Error: \", Post_training_error)\n",
        "test_error = np.sum((Y1_test_mod - np.dot(X1_test_mod, Regression_coefficients))**2)/len(Y1_test_mod)\n",
        "\n",
        "## Print the training and testing loss\n",
        "## update the below two variables to print the model's loss\n",
        "loss_train = Post_training_error\n",
        "loss_test = test_error\n",
        "print(\"Linear Regression\")\n",
        "print(\"Training Loss: \", loss_train)\n",
        "print(\"Testing  Loss: \", loss_test)\n"
      ],
      "metadata": {
        "id": "TrKwRWV8GbO2",
        "colab": {
          "base_uri": "https://localhost:8080/"
        },
        "outputId": "b7e5abad-a436-4f7e-b716-a6229bb90b4e"
      },
      "execution_count": 49,
      "outputs": [
        {
          "output_type": "stream",
          "name": "stdout",
          "text": [
            "Regression_coefficient:  [[47.21637965]\n",
            " [65.15344921]]\n",
            "(70, 1)\n",
            "Post Training Error:  25222.28423671403\n",
            "Linear Regression\n",
            "Training Loss:  25222.28423671403\n",
            "Testing  Loss:  41716.624929654376\n"
          ]
        }
      ]
    },
    {
      "cell_type": "markdown",
      "source": [
        "## Problem 2: Polynomial Regression (2 Marks)\n",
        "\n",
        "Solve the above problem using atleast 3 different hypothesis functions with polynomial degree 2, 3 and 4.\n",
        "\n",
        "Print out the train accuracy and test accuracy. Write your inference on the results.\n",
        "\n",
        "**Data**: X1_train, X1_test, Y1_train, Y1_test"
      ],
      "metadata": {
        "id": "yKbGL0zOGb2l"
      }
    },
    {
      "cell_type": "code",
      "source": [
        "ones_column = np.ones((X1_train.shape[0], 1))\n",
        "X1_train_poly2 = np.hstack((ones_column, X1_train, X1_train**2))\n",
        "print(X1_train_poly2[0:5])\n",
        "\n",
        "ones_column = np.ones((X1_test.shape[0], 1))\n",
        "X1_test_poly2 = np.hstack((ones_column, X1_test, X1_test**2))\n",
        "print(X1_test_poly2[0:3])\n",
        "\n",
        "Y1_train_poly2 = np.resize(Y1_train, (len(Y1_train), 1))\n",
        "Y1_test_poly2 =  np.resize(Y1_test,  (len(Y1_test), 1))\n",
        "print(X1_train_poly2.shape)\n",
        "print(X1_test_poly2.shape)\n",
        "print(Y1_train_poly2.shape)\n",
        "print(Y1_test_poly2.shape)"
      ],
      "metadata": {
        "colab": {
          "base_uri": "https://localhost:8080/"
        },
        "id": "dp_8UuCp0-Ls",
        "outputId": "9b0abf5e-7010-40d7-96fe-fade4ed57cef"
      },
      "execution_count": 50,
      "outputs": [
        {
          "output_type": "stream",
          "name": "stdout",
          "text": [
            "[[ 1.         -8.85376401 78.38913723]\n",
            " [ 1.         -2.5895495   6.70576661]\n",
            " [ 1.          8.08186325 65.31651353]\n",
            " [ 1.         -4.97550386 24.75563861]\n",
            " [ 1.          5.49334111 30.17679656]]\n",
            "[[ 1.          6.26850875 39.29420194]\n",
            " [ 1.         -5.75615029 33.13326616]\n",
            " [ 1.         -5.98513959 35.82189591]]\n",
            "(70, 3)\n",
            "(30, 3)\n",
            "(70, 1)\n",
            "(30, 1)\n"
          ]
        }
      ]
    },
    {
      "cell_type": "markdown",
      "source": [
        "### Polynomial Degree 2"
      ],
      "metadata": {
        "id": "XvczoOYN2nxx"
      }
    },
    {
      "cell_type": "code",
      "source": [
        "### Write your code here\n",
        "## Define the hypothesis function\n",
        "#Hypothesis = [Beta_0 * X1_train[0] + Beta_1 * X1_train[1] + Beta_2 * X1_train[2]]\n",
        "#Regression_cofficients = Beta = [Beta_0, Beta_1, Beta_2]\n",
        "#Hypothesis = [Beta] * X1_train\n",
        "\n",
        "\n",
        "## Use polynomial regression to train the model\n",
        "#Using Normal equation, Regression_cofficients = inv(X1_train.T*X1_train)*X1_train.T*Y1_train\n",
        "Regression_coefficients_poly2 = np.dot(np.linalg.pinv(np.dot(X1_train_poly2.T, X1_train_poly2)), np.dot(X1_train_poly2.T, Y1_train_poly2))\n",
        "print(\"Regression_coefficient: \", Regression_coefficients_poly2)\n",
        "Y1_Poly2 = np.dot(X1_train_poly2, Regression_coefficients_poly2)\n",
        "print(Y1_Poly2.shape)\n",
        "\n",
        "## Compute the training and testing loss\n",
        "Training_error = np.sum((Y1_train_poly2 - np.dot(X1_train_poly2, Regression_coefficients_poly2))**2)/len(Y1_train_poly2)\n",
        "test_error = np.sum((Y1_test_poly2 - np.dot(X1_test_poly2, Regression_coefficients_poly2))**2)/len(Y1_test_poly2)\n",
        "\n",
        "\n",
        "## Print the training and testing loss\n",
        "## update the below two variables to print the model's loss\n",
        "loss_train = Training_error\n",
        "loss_test = test_error\n",
        "\n",
        "print(\"Polynomial Degree 2\")\n",
        "print(\"Training loss: \", loss_train)\n",
        "print(\"Testing  loss: \", loss_test)"
      ],
      "metadata": {
        "id": "gqbgoOnQGeCW",
        "colab": {
          "base_uri": "https://localhost:8080/"
        },
        "outputId": "8515f148-cb74-4cc3-c1d8-b9f4a8bdc4cc"
      },
      "execution_count": 51,
      "outputs": [
        {
          "output_type": "stream",
          "name": "stdout",
          "text": [
            "Regression_coefficient:  [[-5.81412195]\n",
            " [64.01720536]\n",
            " [ 1.42086134]]\n",
            "(70, 1)\n",
            "Polynomial Degree 2\n",
            "Training loss:  23308.50305148525\n",
            "Testing  loss:  36380.348114078115\n"
          ]
        }
      ]
    },
    {
      "cell_type": "code",
      "source": [
        "ones_column = np.ones((X1_train.shape[0], 1))\n",
        "X1_train_poly3 = np.hstack((ones_column, X1_train, X1_train**2, X1_train**3))\n",
        "print(X1_train_poly3[0:5])\n",
        "\n",
        "ones_column = np.ones((X1_test.shape[0], 1))\n",
        "X1_test_poly3 = np.hstack((ones_column, X1_test, X1_test**2, X1_test**3))\n",
        "print(X1_test_poly3[0:3])\n",
        "\n",
        "Y1_train_poly3 = np.resize(Y1_train, (len(Y1_train), 1))\n",
        "Y1_test_poly3 =  np.resize(Y1_test,  (len(Y1_test), 1))\n",
        "print(X1_train_poly3.shape)\n",
        "print(X1_test_poly3.shape)\n",
        "print(Y1_train_poly3.shape)\n",
        "print(Y1_test_poly3.shape)"
      ],
      "metadata": {
        "id": "QxLyLbpnFM-L",
        "outputId": "a85edbb4-c960-472d-d46f-302f7979faf6",
        "colab": {
          "base_uri": "https://localhost:8080/"
        }
      },
      "execution_count": 52,
      "outputs": [
        {
          "output_type": "stream",
          "name": "stdout",
          "text": [
            "[[   1.           -8.85376401   78.38913723 -694.03892235]\n",
            " [   1.           -2.5895495     6.70576661  -17.36491455]\n",
            " [   1.            8.08186325   65.31651353  527.87913012]\n",
            " [   1.           -4.97550386   24.75563861 -123.17177536]\n",
            " [   1.            5.49334111   30.17679656  165.77143712]]\n",
            "[[   1.            6.26850875   39.29420194  246.31604869]\n",
            " [   1.           -5.75615029   33.13326616 -190.72005959]\n",
            " [   1.           -5.98513959   35.82189591 -214.39904741]]\n",
            "(70, 4)\n",
            "(30, 4)\n",
            "(70, 1)\n",
            "(30, 1)\n"
          ]
        }
      ]
    },
    {
      "cell_type": "markdown",
      "source": [
        "### Polynomial Degree 3"
      ],
      "metadata": {
        "id": "_ct7OydN3ipg"
      }
    },
    {
      "cell_type": "code",
      "source": [
        "### Write your code here\n",
        "## Define the hypothesis function\n",
        "#Hypothesis = [Beta_0 * X1_train[0] + Beta_1 * X1_train[1] + Beta_2 * X1_train[2] + Beta_3 * X1_train[3]]\n",
        "#Regression_cofficients = Beta = [Beta_0, Beta_1, Beta_2, Beta_3]\n",
        "#Hypothesis = [Beta] * X1_train\n",
        "\n",
        "\n",
        "## Use polynomial regression to train the model\n",
        "#Using Normal equation, Regression_cofficients = inv(X1_train.T*X1_train)*X1_train.T*Y1_train\n",
        "Regression_coefficients_poly3 = np.dot(np.linalg.pinv(np.dot(X1_train_poly3.T, X1_train_poly3)), np.dot(X1_train_poly3.T, Y1_train_poly3))\n",
        "print(\"Regression_coefficient: \", Regression_coefficients_poly3)\n",
        "\n",
        "Y1_Poly3 = np.dot(X1_train_poly3, Regression_coefficients_poly3)\n",
        "print(Y1_Poly3.shape)\n",
        "\n",
        "## Compute the training and testing loss\n",
        "Training_error = np.sum((Y1_train_poly3 - np.dot(X1_train_poly3, Regression_coefficients_poly3))**2)/len(Y1_train_poly3)\n",
        "test_error = np.sum((Y1_test_poly3 - np.dot(X1_test_poly3, Regression_coefficients_poly3))**2)/len(Y1_test_poly3)\n",
        "\n",
        "\n",
        "## Print the training and testing loss\n",
        "## update the below two variables to print the model's loss\n",
        "loss_train = Training_error\n",
        "loss_test = test_error\n",
        "\n",
        "print(\"Polynomial Degree 3\")\n",
        "print(\"Training Loss: \", loss_train)\n",
        "print(\"Testing  Loss: \", loss_test)"
      ],
      "metadata": {
        "id": "X3pKkHvh2yS3",
        "colab": {
          "base_uri": "https://localhost:8080/"
        },
        "outputId": "d435d954-82fe-495f-df2e-7d1f39b02ea0"
      },
      "execution_count": 53,
      "outputs": [
        {
          "output_type": "stream",
          "name": "stdout",
          "text": [
            "Regression_coefficient:  [[-4.29736247e-11]\n",
            " [ 1.00000000e+00]\n",
            " [ 1.00000000e+00]\n",
            " [ 1.00000000e+00]]\n",
            "(70, 1)\n",
            "Polynomial Degree 3\n",
            "Training Loss:  7.92854562673667e-22\n",
            "Testing  Loss:  8.283010751786646e-22\n"
          ]
        }
      ]
    },
    {
      "cell_type": "markdown",
      "source": [
        "### Polynomial Degree 4"
      ],
      "metadata": {
        "id": "KNPJfmG93nvQ"
      }
    },
    {
      "cell_type": "code",
      "source": [
        "ones_column = np.ones((X1_train.shape[0], 1))\n",
        "X1_train_poly4 = np.hstack((ones_column, X1_train, X1_train**2, X1_train**3, X1_train**4))\n",
        "print(X1_train_poly4[0:5])\n",
        "\n",
        "ones_column = np.ones((X1_test.shape[0], 1))\n",
        "X1_test_poly4 = np.hstack((ones_column, X1_test, X1_test**2, X1_test**3, X1_test**4))\n",
        "print(X1_test_poly4[0:3])\n",
        "\n",
        "Y1_train_poly4 = np.resize(Y1_train, (len(Y1_train), 1))\n",
        "Y1_test_poly4 =  np.resize(Y1_test,  (len(Y1_test), 1))\n",
        "print(X1_train_poly4.shape)\n",
        "print(X1_test_poly4.shape)\n",
        "print(Y1_train_poly4.shape)\n",
        "print(Y1_test_poly4.shape)"
      ],
      "metadata": {
        "id": "qrEPclDFJLUQ",
        "outputId": "dffddda7-af5e-414c-a05a-bb415c3f8e19",
        "colab": {
          "base_uri": "https://localhost:8080/"
        }
      },
      "execution_count": 54,
      "outputs": [
        {
          "output_type": "stream",
          "name": "stdout",
          "text": [
            "[[ 1.00000000e+00 -8.85376401e+00  7.83891372e+01 -6.94038922e+02\n",
            "   6.14485684e+03]\n",
            " [ 1.00000000e+00 -2.58954950e+00  6.70576661e+00 -1.73649146e+01\n",
            "   4.49673058e+01]\n",
            " [ 1.00000000e+00  8.08186325e+00  6.53165135e+01  5.27879130e+02\n",
            "   4.26624694e+03]\n",
            " [ 1.00000000e+00 -4.97550386e+00  2.47556386e+01 -1.23171775e+02\n",
            "   6.12841643e+02]\n",
            " [ 1.00000000e+00  5.49334111e+00  3.01767966e+01  1.65771437e+02\n",
            "   9.10639051e+02]]\n",
            "[[ 1.00000000e+00  6.26850875e+00  3.92942019e+01  2.46316049e+02\n",
            "   1.54403431e+03]\n",
            " [ 1.00000000e+00 -5.75615029e+00  3.31332662e+01 -1.90720060e+02\n",
            "   1.09781333e+03]\n",
            " [ 1.00000000e+00 -5.98513959e+00  3.58218959e+01 -2.14399047e+02\n",
            "   1.28320823e+03]]\n",
            "(70, 5)\n",
            "(30, 5)\n",
            "(70, 1)\n",
            "(30, 1)\n"
          ]
        }
      ]
    },
    {
      "cell_type": "code",
      "source": [
        "### Write your code here\n",
        "## Define the hypothesis function\n",
        "#Hypothesis = [Beta_0 * X1_train[0] + Beta_1 * X1_train[1] + Beta_2 * X1_train[2] + Beta_3 * X1_train[3]]\n",
        "#Regression_cofficients = Beta = [Beta_0, Beta_1, Beta_2, Beta_3]\n",
        "#Hypothesis = [Beta] * X1_train\n",
        "\n",
        "\n",
        "## Use polynomial regression to train the model\n",
        "#Using Normal equation, Regression_cofficients = inv(X1_train.T*X1_train)*X1_train.T*Y1_train\n",
        "Regression_coefficients_poly4 = np.dot(np.linalg.pinv(np.dot(X1_train_poly4.T, X1_train_poly4)), np.dot(X1_train_poly4.T, Y1_train_poly4))\n",
        "print(\"Regression_coefficient: \", Regression_coefficients_poly4)\n",
        "Y1_Poly4 = np.dot(X1_train_poly4, Regression_coefficients_poly4)\n",
        "print(Y1_Poly4.shape)\n",
        "\n",
        "## Compute the training and testing loss\n",
        "Training_error = np.sum((Y1_train_poly4 - np.dot(X1_train_poly4, Regression_coefficients_poly4))**2)/len(Y1_train_poly4)\n",
        "test_error = np.sum((Y1_test_poly4 - np.dot(X1_test_poly4, Regression_coefficients_poly4))**2)/len(Y1_test_poly4)\n",
        "\n",
        "\n",
        "## Print the training and testing loss\n",
        "## update the below two variables to print the model's loss\n",
        "loss_train = Training_error\n",
        "loss_test = test_error\n",
        "\n",
        "print(\"Polynomial Degree 4\")\n",
        "print(\"Training Loss: \", loss_train)\n",
        "print(\"Testing  Loss: \", loss_test)"
      ],
      "metadata": {
        "id": "mMHzekphGhcH",
        "colab": {
          "base_uri": "https://localhost:8080/"
        },
        "outputId": "2f61006d-bb83-4385-c5e9-8e51a20f5052"
      },
      "execution_count": 55,
      "outputs": [
        {
          "output_type": "stream",
          "name": "stdout",
          "text": [
            "Regression_coefficient:  [[1.04554861e-10]\n",
            " [1.00000000e+00]\n",
            " [1.00000000e+00]\n",
            " [1.00000000e+00]\n",
            " [4.63908321e-14]]\n",
            "(70, 1)\n",
            "Polynomial Degree 4\n",
            "Training Loss:  2.786446139990528e-21\n",
            "Testing  Loss:  2.7485570890912254e-21\n"
          ]
        }
      ]
    },
    {
      "cell_type": "code",
      "source": [
        "# Calculate the coefficients (Theta) using the normal equation\n",
        "X_transpose_X = np.dot(X1_train_poly4.T, X1_train_poly4)\n",
        "X_transpose_y = np.dot(X1_train_poly4.T, Y1_train_poly4)\n",
        "coefficients = np.linalg.solve(X_transpose_X, X_transpose_y)\n",
        "\n",
        "# The coefficients represent the coefficients of the polynomial terms in increasing order of degree\n",
        "print(\"Coefficients for Polynomial Regression:\")\n",
        "for i, coeff in enumerate(coefficients):\n",
        "    print(f\"Theta_{i}:\", coeff)\n",
        "\n",
        "## Compute the training and testing loss\n",
        "Training_error = np.sum((Y1_train_poly4 - np.dot(X1_train_poly4, Regression_coefficients_poly4))**2)/len(Y1_train_poly4)\n",
        "test_error = np.sum((Y1_test_poly4 - np.dot(X1_test_poly4, Regression_coefficients_poly4))**2)/len(Y1_test_poly4)\n",
        "\n",
        "\n",
        "## Print the training and testing loss\n",
        "## update the below two variables to print the model's loss\n",
        "loss_train = Training_error\n",
        "loss_test = test_error\n",
        "\n",
        "print(\"Polynomial Degree 4\")\n",
        "print(\"Training Loss: \", loss_train)\n",
        "print(\"Testing  Loss: \", loss_test)"
      ],
      "metadata": {
        "id": "r6Qo6jVWO94W",
        "outputId": "8baaadb0-e20b-4791-9c7b-8cd3a7b4ecbe",
        "colab": {
          "base_uri": "https://localhost:8080/"
        }
      },
      "execution_count": 56,
      "outputs": [
        {
          "output_type": "stream",
          "name": "stdout",
          "text": [
            "Coefficients for Polynomial Regression:\n",
            "Theta_0: [-1.14347785e-12]\n",
            "Theta_1: [1.]\n",
            "Theta_2: [1.]\n",
            "Theta_3: [1.]\n",
            "Theta_4: [-9.58115424e-16]\n",
            "Polynomial Degree 4\n",
            "Training Loss:  2.786446139990528e-21\n",
            "Testing  Loss:  2.7485570890912254e-21\n"
          ]
        }
      ]
    },
    {
      "cell_type": "code",
      "source": [
        "import matplotlib.pyplot as plt\n",
        "plt.plot(X1_train, Y1_train)#, label='training set',                           color='magenta')\n",
        "#plt.plot(X1_train, Y1_Lin_NoBias, label='y=b1*x',                            color='blue')\n",
        "#plt.plot(X1_train, Y1_Lin_Bias, label='y=b0 + b1*x',                         color='red')\n",
        "#plt.plot(X1_train, Y1_Poly2, label='y=b0 + b1*x + b2*x^2',                   color='orange')\n",
        "#plt.plot(X1_train, Y1_Poly3, label='y=b0 + b1*x + b2*x^2 + b3*x^3',          color='green')\n",
        "#plt.plot(X1_train, Y1_Poly4, label='y=b0 + b1*x + b2*x^2 + b3*x^3 + b4*x^4', color='black')"
      ],
      "metadata": {
        "id": "Z6Mekn7W8EpL",
        "outputId": "12465ba5-33b5-4146-d78a-d2d9541c7419",
        "colab": {
          "base_uri": "https://localhost:8080/"
        }
      },
      "execution_count": 57,
      "outputs": [
        {
          "output_type": "execute_result",
          "data": {
            "text/plain": [
              "[<matplotlib.lines.Line2D at 0x7ff0fadce950>]"
            ]
          },
          "metadata": {},
          "execution_count": 57
        },
        {
          "output_type": "display_data",
          "data": {
            "text/plain": [
              "<Figure size 640x480 with 1 Axes>"
            ],
            "image/png": "[encoded data removed]"
          },
          "metadata": {}
        }
      ]
    },
    {
      "cell_type": "markdown",
      "source": [
        "### Inference\n",
        "\n",
        "The training error and testing error changes with degree of polynomial. Between Simple linear regression, the hypothesis function without bias and with bias, the latter showed higher accuracy in terms of lower MSE than without bias. This confirms the observation that simple linear regression with bias is always better than the one without bias.\n",
        "Comparing Polynomial regression with degree 2,3 and 4, the training error and test error for degree 3 is the lowest, followed by degree 4 and then degree 2.\n",
        "Training and test error are both ~e-21. So the model isnt overfitting or underfitting.\n",
        "\n"
      ],
      "metadata": {
        "id": "W1Metdx-4esF"
      }
    },
    {
      "cell_type": "markdown",
      "source": [
        "## Problem 3: Overfitting and Underfitting (2 Marks)\n",
        "\n",
        "**Let us say we have a dataset with little noise. Then a model is underfitting when:**\n",
        "\n",
        "a) both the train and test errors are high\n",
        "\n",
        "b) train error is low but test error is high\n",
        "\n",
        "c) train error is high but the test error is low\n",
        "\n",
        "d) both train and test errors are low\n",
        "\n",
        "\n",
        "**If we choose the parameters of a model to get the best overfitting/underfitting tradeoff, we will always get a zero test error.**\n",
        "\n",
        "a) True\n",
        "\n",
        "b) False\n",
        "\n",
        "\n",
        "**State which of the below statements is false with respect to underfitting vs overfitting.**\n",
        "\n",
        "a) If the training set performance is roughly equal, underfitting is generally better.\n",
        "\n",
        "b) An underfit model is simpler and can usually be improved by looking at where it fits badly.\n",
        "\n",
        "c) An overfit model is often easier to change because it is easy to know where to start simplifying.\n",
        "\n",
        "d) Neither overfitting nor underfitting is desirable.\n"
      ],
      "metadata": {
        "id": "ZwBMt6VJGeW-"
      }
    },
    {
      "cell_type": "markdown",
      "source": [
        "## Write your answers below\n",
        "For the dataset with little noise, it underfits **a) when both the train and test errors are high**\n",
        "\n",
        "If we choose the parameters of a model to get the best overfitting/underfitting tradeoff, we will always get a zero test error. **FALSE**\n",
        "\n",
        "State which of the below statements is false with respect to underfitting vs overfitting:\n",
        "\n",
        "**d) Neither overfitting nor underfitting is desirable.**"
      ],
      "metadata": {
        "id": "gBwZRyYwMMYa"
      }
    },
    {
      "cell_type": "markdown",
      "source": [
        "## Problem 4: Regularization (2 Marks)\n",
        "\n",
        "Solve the problem using regularization (Lasso, Ridge and Elastic net) on the 3 polynomial functions defined in **Problem 2**.\n",
        "\n",
        "Print out the train and test accuracy. Write your inference on the results\n",
        "\n",
        "**Data**: X1_train, X1_test, Y1_train, Y1_test\n"
      ],
      "metadata": {
        "id": "c1p1JzJWGhvH"
      }
    },
    {
      "cell_type": "markdown",
      "source": [
        "### Polynomial Degree 2"
      ],
      "metadata": {
        "id": "Sgh3esHf5Mmn"
      }
    },
    {
      "cell_type": "markdown",
      "source": [
        "#### Lasso Regularization"
      ],
      "metadata": {
        "id": "7FYVCtRh6tvj"
      }
    },
    {
      "cell_type": "code",
      "source": [
        "'''\n",
        "### Write your code here\n",
        "## Define a new hypothesis function by adding a Lasso regularizer\n",
        "## to the 2nd order hypothesis function that you defined earlier\n",
        "\n",
        "#Regression_cofficients = Beta = [Beta_0, Beta_1, Beta_2]\n",
        "#Hypothesis = [Beta_0 * X1_train[0] + Beta_1 * X1_train[1] + Beta_2 * X1_train[2]]\n",
        "#Hypothesis = [Beta] * X1_train\n",
        "\n",
        "## Use polynomial regression to train the model\n",
        "\n",
        "# Define (hyper)parameters for Gradient descent algorithm\n",
        "\n",
        "alpha = 0.01  # Learning rate\n",
        "lambda_ = 1  # Regularization parameter (lambda is L2 penalty)\n",
        "num_iterations = 1000 #Nr of iteration for GD to run\n",
        "m, n = X1_train_poly2.shape # no_of_training_examples, no_of_features\n",
        "\n",
        "# Initialize coefficients\n",
        "Beta = np.zeros(3)  #  3 coefficients [Beta_0, Beta_1, Beta_2]\n",
        "\n",
        "# Gradient Descent\n",
        "\n",
        "for _ in range(num_iterations):\n",
        "# Calculate predictions\n",
        "    predictions = np.dot(X1_test_poly2, Regression_coefficients_poly2)\n",
        "\n",
        "# Compute errors\n",
        "    errors = predictions - Y1_test_poly2\n",
        "# Compute gradient with regularization (except for theta_0)\n",
        "    gradient = (2/m) * np.dot(X1_test_poly2.T, errors) + (lambda_/m) * Beta\n",
        "    gradient[0] -= (lambda_/m) * Beta[0]  # Exclude regularization for theta_0\n",
        "    print(gradient.size)\n",
        "    #print(\"Gradient size:\", gradient.size)\n",
        "# Update coefficients\n",
        "    #Beta = Beta - np.dot(alpha, gradient)\n",
        "# Print coefficients\n",
        "print(\"Ridge Coefficients:\", Beta)\n",
        "\n",
        "## Compute the training and testing accuracy\n",
        "\n",
        "\n",
        "\n",
        "## Print the training and testing accuracy\n",
        "## update the below two variables to print the model's accuracy\n",
        "accuracy_train = 0\n",
        "accuracy_test = 0\n",
        "\n",
        "print(\"Polynomial Degree 2 : Lasso Regularization\")\n",
        "print(\"Training Accuracy: \", accuracy_train)\n",
        "print(\"Testing  Accuracy: \", accuracy_test)\n",
        "'''"
      ],
      "metadata": {
        "id": "hqiE5Hij5Mmt"
      },
      "execution_count": null,
      "outputs": []
    },
    {
      "cell_type": "markdown",
      "source": [
        "#### Ridge Regularization"
      ],
      "metadata": {
        "id": "ZKHPfHa962C-"
      }
    },
    {
      "cell_type": "code",
      "source": [
        "### Write your code here\n",
        "## Define a new hypothesis function by adding a Lasso regularizer\n",
        "## to the 2nd order hypothesis function that you defined earlier\n",
        "\n",
        "#Regression_cofficients = Beta = [Beta_0, Beta_1, Beta_2]\n",
        "#Hypothesis = [Beta_0 * X1_train[0] + Beta_1 * X1_train[1] + Beta_2 * X1_train[2]]\n",
        "#Hypothesis = [Beta] * X1_train\n",
        "\n",
        "## Use polynomial regression to train the model\n",
        "\n",
        "# Define (hyper)parameters for Gradient descent algorithm\n",
        "\n",
        "alpha = 0.01  # Learning rate\n",
        "lambda_ = 1  # Regularization parameter (lambda is L2 penalty)\n",
        "num_iterations = 100 #Nr of iteration for GD to run\n",
        "m, n = X1_train_poly2.shape # no_of_training_examples, no_of_features\n",
        "print(X1_test_poly2.T.size)\n",
        "# Initialize coefficients\n",
        "Beta = np.zeros(3)  #  3 coefficients [Beta_0, Beta_1, Beta_2]\n",
        "\n",
        "# Gradient Descent\n",
        "'''\n",
        "for _ in range(num_iterations):\n",
        "# Calculate predictions\n",
        "    predictions = np.dot(X1_test_poly2, Regression_coefficients_poly2)\n",
        "\n",
        "\n",
        "# Compute errors\n",
        "    errors = predictions - Y1_test_poly2\n",
        "# Compute gradient with regularization (except for theta_0)\n",
        "    gradient = (2/m) * np.dot(X1_test_poly2.T, errors) + (2*lambda_/m) * Beta\n",
        "    #print(gradient.size)\n",
        "    gradient[0] = (2/m) *np.sum(errors)  # Exclude regularization for theta_0\n",
        "\n",
        "# Update coefficients meaning bias and weights\n",
        " #   Beta -= alpha*gradient\n",
        "# Print coefficients\n",
        "print(\"Ridge Coefficients:\", Beta)\n",
        "\n",
        "## Compute the training and testing accuracy\n",
        "\n",
        "\n",
        "\n",
        "## Print the training and testing accuracy\n",
        "## update the below two variables to print the model's accuracy\n",
        "accuracy_train = 0\n",
        "accuracy_test = 0\n",
        "\n",
        "print(\"Polynomial Degree 2 : Ridge Regularization\")\n",
        "print(\"Training Accuracy: \", accuracy_train)\n",
        "print(\"Testing  Accuracy: \", accuracy_test)\n",
        "'''"
      ],
      "metadata": {
        "id": "tg6Xqhrt62DA",
        "colab": {
          "base_uri": "https://localhost:8080/"
        },
        "outputId": "f7ffbdb8-08ed-4836-decc-2581a342f483"
      },
      "execution_count": 68,
      "outputs": [
        {
          "output_type": "stream",
          "name": "stdout",
          "text": [
            "90\n"
          ]
        },
        {
          "output_type": "execute_result",
          "data": {
            "text/plain": [
              "'\\nfor _ in range(num_iterations):\\n# Calculate predictions\\n    predictions = np.dot(X1_test_poly2, Regression_coefficients_poly2)\\n\\n    \\n# Compute errors\\n    errors = predictions - Y1_test_poly2\\n# Compute gradient with regularization (except for theta_0)\\n    gradient = (2/m) * np.dot(X1_test_poly2.T, errors) + (2*lambda_/m) * Beta\\n    #print(gradient.size)\\n    gradient[0] = (2/m) *np.sum(errors)  # Exclude regularization for theta_0\\n    \\n# Update coefficients meaning bias and weights\\n #   Beta -= alpha*gradient\\n# Print coefficients\\nprint(\"Ridge Coefficients:\", Beta)\\n\\n## Compute the training and testing accuracy\\n\\n\\n\\n## Print the training and testing accuracy\\n## update the below two variables to print the model\\'s accuracy\\naccuracy_train = 0\\naccuracy_test = 0\\n\\nprint(\"Polynomial Degree 2 : Ridge Regularization\")\\nprint(\"Training Accuracy: \", accuracy_train)\\nprint(\"Testing  Accuracy: \", accuracy_test)\\n'"
            ],
            "application/vnd.google.colaboratory.intrinsic+json": {
              "type": "string"
            }
          },
          "metadata": {},
          "execution_count": 68
        }
      ]
    },
    {
      "cell_type": "markdown",
      "source": [
        "#### Elastic net Regularization"
      ],
      "metadata": {
        "id": "_uE1UbuG61cB"
      }
    },
    {
      "cell_type": "code",
      "source": [
        "### Write your code here\n",
        "## Define a new hypothesis function by adding a Elastic net regularizer\n",
        "## to the 2nd order hypothesis function that you defined earlier\n",
        "\n",
        "\n",
        "\n",
        "## Use polynomial regression to train the model\n",
        "\n",
        "\n",
        "\n",
        "## Compute the training and testing accuracy\n",
        "\n",
        "\n",
        "\n",
        "## Print the training and testing accuracy\n",
        "## update the below two variables to print the model's accuracy\n",
        "accuracy_train = 0\n",
        "accuracy_test = 0\n",
        "\n",
        "print(\"Polynomial Degree 2 : Elastic net Regularization\")\n",
        "print(\"Training Accuracy: \", accuracy_train)\n",
        "print(\"Testing  Accuracy: \", accuracy_test)"
      ],
      "metadata": {
        "id": "0Hu8O10s61cG",
        "colab": {
          "base_uri": "https://localhost:8080/"
        },
        "outputId": "c5d03046-db92-4126-ab0b-7980a88ee953"
      },
      "execution_count": 60,
      "outputs": [
        {
          "output_type": "stream",
          "name": "stdout",
          "text": [
            "Polynomial Degree 2 : Elastic net Regularization\n",
            "Training Accuracy:  0\n",
            "Testing  Accuracy:  0\n"
          ]
        }
      ]
    },
    {
      "cell_type": "markdown",
      "source": [
        "### Polynomial Degree 3"
      ],
      "metadata": {
        "id": "eyiLYqgo7Kcv"
      }
    },
    {
      "cell_type": "markdown",
      "source": [
        "#### Lasso Regularization"
      ],
      "metadata": {
        "id": "71-KPDCE7Kc0"
      }
    },
    {
      "cell_type": "code",
      "source": [
        "### Write your code here\n",
        "## Define a new hypothesis function by adding a Lasso regularizer\n",
        "## to the 3rd order hypothesis function that you defined earlier\n",
        "\n",
        "\n",
        "\n",
        "## Use polynomial regression to train the model\n",
        "\n",
        "\n",
        "\n",
        "## Compute the training and testing accuracy\n",
        "\n",
        "\n",
        "\n",
        "## Print the training and testing accuracy\n",
        "## update the below two variables to print the model's accuracy\n",
        "accuracy_train = 0\n",
        "accuracy_test = 0\n",
        "\n",
        "print(\"Polynomial Degree 3 : Lasso Regularization\")\n",
        "print(\"Training Accuracy: \", accuracy_train)\n",
        "print(\"Testing  Accuracy: \", accuracy_test)"
      ],
      "metadata": {
        "id": "gyC3E9SM7Kc1",
        "colab": {
          "base_uri": "https://localhost:8080/"
        },
        "outputId": "40440563-511e-4dd0-c732-367fcb773a6c"
      },
      "execution_count": 61,
      "outputs": [
        {
          "output_type": "stream",
          "name": "stdout",
          "text": [
            "Polynomial Degree 3 : Lasso Regularization\n",
            "Training Accuracy:  0\n",
            "Testing  Accuracy:  0\n"
          ]
        }
      ]
    },
    {
      "cell_type": "markdown",
      "source": [
        "#### Ridge Regularization"
      ],
      "metadata": {
        "id": "Lej8AznZ7Kc3"
      }
    },
    {
      "cell_type": "code",
      "source": [
        "### Write your code here\n",
        "## Define a new hypothesis function by adding a Ridge regularizer\n",
        "## to the 3rd order hypothesis function that you defined earlier\n",
        "\n",
        "\n",
        "\n",
        "## Use polynomial regression to train the model\n",
        "\n",
        "\n",
        "\n",
        "## Compute the training and testing accuracy\n",
        "\n",
        "\n",
        "\n",
        "## Print the training and testing accuracy\n",
        "## update the below two variables to print the model's accuracy\n",
        "accuracy_train = 0\n",
        "accuracy_test = 0\n",
        "\n",
        "print(\"Polynomial Degree 3 : Ridge Regularization\")\n",
        "print(\"Training Accuracy: \", accuracy_train)\n",
        "print(\"Testing  Accuracy: \", accuracy_test)"
      ],
      "metadata": {
        "id": "Z2VyClSM7Kc3",
        "colab": {
          "base_uri": "https://localhost:8080/"
        },
        "outputId": "fdda9887-24cc-4abf-9f60-45d1b4b25912"
      },
      "execution_count": 62,
      "outputs": [
        {
          "output_type": "stream",
          "name": "stdout",
          "text": [
            "Polynomial Degree 3 : Ridge Regularization\n",
            "Training Accuracy:  0\n",
            "Testing  Accuracy:  0\n"
          ]
        }
      ]
    },
    {
      "cell_type": "markdown",
      "source": [
        "#### Elastic net Regularization"
      ],
      "metadata": {
        "id": "MFw7cIot7Kc4"
      }
    },
    {
      "cell_type": "code",
      "source": [
        "### Write your code here\n",
        "## Define a new hypothesis function by adding a Elastic net regularizer\n",
        "## to the 3rd order hypothesis function that you defined earlier\n",
        "\n",
        "\n",
        "\n",
        "## Use polynomial regression to train the model\n",
        "\n",
        "\n",
        "\n",
        "## Compute the training and testing accuracy\n",
        "\n",
        "\n",
        "\n",
        "## Print the training and testing accuracy\n",
        "## update the below two variables to print the model's accuracy\n",
        "accuracy_train = 0\n",
        "accuracy_test = 0\n",
        "\n",
        "print(\"Polynomial Degree 3 : Elastic net Regularization\")\n",
        "print(\"Training Accuracy: \", accuracy_train)\n",
        "print(\"Testing  Accuracy: \", accuracy_test)"
      ],
      "metadata": {
        "id": "Zo-WrnJv7Kc4",
        "colab": {
          "base_uri": "https://localhost:8080/"
        },
        "outputId": "d3966db7-b073-4143-a50e-45ebbc6b8797"
      },
      "execution_count": 63,
      "outputs": [
        {
          "output_type": "stream",
          "name": "stdout",
          "text": [
            "Polynomial Degree 3 : Elastic net Regularization\n",
            "Training Accuracy:  0\n",
            "Testing  Accuracy:  0\n"
          ]
        }
      ]
    },
    {
      "cell_type": "markdown",
      "source": [
        "### Polynomial Degree 4"
      ],
      "metadata": {
        "id": "y7WAezGP7LX-"
      }
    },
    {
      "cell_type": "markdown",
      "source": [
        "#### Lasso Regularization"
      ],
      "metadata": {
        "id": "5HJW1wl-7LX_"
      }
    },
    {
      "cell_type": "code",
      "source": [
        "### Write your code here\n",
        "## Define a new hypothesis function by adding a Lasso regularizer\n",
        "## to the 4th order hypothesis function that you defined earlier\n",
        "\n",
        "\n",
        "\n",
        "## Use polynomial regression to train the model\n",
        "\n",
        "\n",
        "\n",
        "## Compute the training and testing accuracy\n",
        "\n",
        "\n",
        "\n",
        "## Print the training and testing accuracy\n",
        "## update the below two variables to print the model's accuracy\n",
        "accuracy_train = 0\n",
        "accuracy_test = 0\n",
        "\n",
        "print(\"Polynomial Degree 4 : Lasso Regularization\")\n",
        "print(\"Training Accuracy: \", accuracy_train)\n",
        "print(\"Testing  Accuracy: \", accuracy_test)"
      ],
      "metadata": {
        "id": "YkIJpStm7LYA",
        "colab": {
          "base_uri": "https://localhost:8080/"
        },
        "outputId": "ba811b95-04fb-4d7c-e1da-16e82cc82c45"
      },
      "execution_count": 64,
      "outputs": [
        {
          "output_type": "stream",
          "name": "stdout",
          "text": [
            "Polynomial Degree 4 : Lasso Regularization\n",
            "Training Accuracy:  0\n",
            "Testing  Accuracy:  0\n"
          ]
        }
      ]
    },
    {
      "cell_type": "markdown",
      "source": [
        "#### Ridge Regularization"
      ],
      "metadata": {
        "id": "1dReUsBK7LYB"
      }
    },
    {
      "cell_type": "code",
      "source": [
        "### Write your code here\n",
        "## Define a new hypothesis function by adding a Ridge regularizer\n",
        "## to the 4th order hypothesis function that you defined earlier\n",
        "\n",
        "\n",
        "\n",
        "## Use polynomial regression to train the model\n",
        "\n",
        "\n",
        "\n",
        "## Compute the training and testing accuracy\n",
        "\n",
        "\n",
        "\n",
        "## Print the training and testing accuracy\n",
        "## update the below two variables to print the model's accuracy\n",
        "accuracy_train = 0\n",
        "accuracy_test = 0\n",
        "\n",
        "print(\"Polynomial Degree 4 : Ridge Regularization\")\n",
        "print(\"Training Accuracy: \", accuracy_train)\n",
        "print(\"Testing  Accuracy: \", accuracy_test)"
      ],
      "metadata": {
        "id": "CgKlKFvM7LYB",
        "colab": {
          "base_uri": "https://localhost:8080/"
        },
        "outputId": "d96268d5-3568-4989-e826-373f7b801575"
      },
      "execution_count": 65,
      "outputs": [
        {
          "output_type": "stream",
          "name": "stdout",
          "text": [
            "Polynomial Degree 4 : Ridge Regularization\n",
            "Training Accuracy:  0\n",
            "Testing  Accuracy:  0\n"
          ]
        }
      ]
    },
    {
      "cell_type": "markdown",
      "source": [
        "#### Elastic net Regularization"
      ],
      "metadata": {
        "id": "HgkNRup17LYC"
      }
    },
    {
      "cell_type": "code",
      "source": [
        "### Write your code here\n",
        "## Define a new hypothesis function by adding a Elastic net regularizer\n",
        "## to the 4th order hypothesis function that you defined earlier\n",
        "\n",
        "\n",
        "\n",
        "## Use polynomial regression to train the model\n",
        "\n",
        "\n",
        "\n",
        "## Compute the training and testing accuracy\n",
        "\n",
        "\n",
        "\n",
        "## Print the training and testing accuracy\n",
        "## update the below two variables to print the model's accuracy\n",
        "accuracy_train = 0\n",
        "accuracy_test = 0\n",
        "\n",
        "print(\"Polynomial Degree 4 : Elastic net Regularization\")\n",
        "print(\"Training Accuracy: \", accuracy_train)\n",
        "print(\"Testing  Accuracy: \", accuracy_test)"
      ],
      "metadata": {
        "id": "CEYHNkcU7LYC",
        "colab": {
          "base_uri": "https://localhost:8080/"
        },
        "outputId": "ce23e1a4-7cdf-4bd6-8f87-a6948a0b4980"
      },
      "execution_count": 66,
      "outputs": [
        {
          "output_type": "stream",
          "name": "stdout",
          "text": [
            "Polynomial Degree 4 : Elastic net Regularization\n",
            "Training Accuracy:  0\n",
            "Testing  Accuracy:  0\n"
          ]
        }
      ]
    },
    {
      "cell_type": "markdown",
      "source": [],
      "metadata": {
        "id": "m-yrbklZj3Tg"
      }
    },
    {
      "cell_type": "markdown",
      "source": [
        "### Inference\n",
        "\n",
        "*Write your inference here*\n",
        "\n",
        "..."
      ],
      "metadata": {
        "id": "4N5dzLiF8VEc"
      }
    },
    {
      "cell_type": "markdown",
      "source": [
        "## Problem 5: Logistic Regression (2 Marks)\n",
        "\n",
        "Train a logistic regression model.\n",
        "Print the F1 score, accuracy and confusion matrix for both training and testing.\n",
        "\n",
        "**Data**: X2_train, X2_test, Y2_train, Y2_test"
      ],
      "metadata": {
        "id": "-nGbUYoTs29F"
      }
    },
    {
      "cell_type": "code",
      "source": [
        "### Write your code here\n",
        "\n",
        "\n",
        "\n",
        "## Compute f1 score, accuracy and confusion matrix for both training and testing\n",
        "\n",
        "\n",
        "\n",
        "## Print the above computed metrics\n",
        "accuracy_train = 0\n",
        "f1_train = 0\n",
        "cf_train = [] # confusion matrix\n",
        "accuracy_test = 0\n",
        "f1_test = 0\n",
        "cf_test = [] # confusion matrix\n",
        "\n",
        "\n",
        "print(\"Logistic Regression\")\n",
        "print(\"Training Accuracy: \", accuracy_train)\n",
        "print(\"Training F1 score: \", f1_train)\n",
        "print(\"Training confusion matrix: \")\n",
        "print(cf_train)\n",
        "\n",
        "print(\"Testing  Accuracy: \", accuracy_test)\n",
        "print(\"Testing  F1 score: \", f1_test)\n",
        "print(\"Testing  confusion matrix: \")\n",
        "print(cf_test)"
      ],
      "metadata": {
        "id": "bj3P6o5ws9am",
        "outputId": "73390365-0a14-4462-8b81-e98c407bc75e",
        "colab": {
          "base_uri": "https://localhost:8080/"
        }
      },
      "execution_count": 67,
      "outputs": [
        {
          "output_type": "stream",
          "name": "stdout",
          "text": [
            "Logistic Regression\n",
            "Training Accuracy:  0\n",
            "Training F1 score:  0\n",
            "Training confusion matrix: \n",
            "[]\n",
            "Testing  Accuracy:  0\n",
            "Testing  F1 score:  0\n",
            "Testing  confusion matrix: \n",
            "[]\n"
          ]
        }
      ]
    }
  ]
}