{
  "nbformat": 4,
  "nbformat_minor": 0,
  "metadata": {
    "colab": {
      "provenance": [],
      "include_colab_link": true
    },
    "kernelspec": {
      "name": "python3",
      "display_name": "Python 3"
    },
    "language_info": {
      "name": "python"
    }
  },
  "cells": [
    {
      "cell_type": "markdown",
      "metadata": {
        "id": "view-in-github",
        "colab_type": "text"
      },
      "source": [
        "<a href=\"https://colab.research.google.com/github/ntp3105/IISc-CCE-ML-AI-MLOps/blob/main/Assignment_3.ipynb\" target=\"_parent\"><img src=\"https://colab.research.google.com/assets/colab-badge.svg\" alt=\"Open In Colab\"/></a>"
      ]
    },
    {
      "cell_type": "markdown",
      "source": [
        "# Practical AI and MLOps : Assignment 3\n"
      ],
      "metadata": {
        "id": "WA4bucbhF6wg"
      }
    },
    {
      "cell_type": "markdown",
      "source": [
        "### Download the dataset.\n",
        "\n",
        "Download the dataset attached with the assignment and store it in a pandas dataframe `df`. You are free to change the names as you like. You can split the datasets using `train_test_split` function from the `scikit-learn` library.\n",
        "\n",
        "**1st dataset:** (df) For problem 1"
      ],
      "metadata": {
        "id": "Musg62sg30Rw"
      }
    },
    {
      "cell_type": "code",
      "source": [
        "import pandas as pd\n",
        "df = pd.read_csv('Iris.csv')\n",
        "df.head(5)"
      ],
      "metadata": {
        "id": "JgXSETyW3mQG"
      },
      "execution_count": null,
      "outputs": []
    },
    {
      "cell_type": "markdown",
      "source": [
        "## Problem 1 (5 marks)"
      ],
      "metadata": {
        "id": "gApLH-475U9w"
      }
    },
    {
      "cell_type": "markdown",
      "source": [
        "\n",
        "You have to design and implement neural network models for multi-class classification using both a Multi-Layer Perceptron (MLP) and a Convolutional Neural Network (CNN). The dataset you will be working with contains samples from multiple classes. You need to experiment with different activation functions and loss functions for both models to find the best combinations for this task.\n",
        "\n",
        "Instructions:\n",
        "\n",
        "1. Load the multi-class dataset.\n",
        "\n",
        "2. Preprocess the dataset as needed, including data splitting and normalization.\n",
        "\n",
        "3. **Implement an MLP model**\n",
        "\n",
        "Implement an MLP model with the following specifications:\n",
        "\n",
        "*   Input layer with an appropriate number of neurons based on the dataset's features.\n",
        "*   At least one hidden layer with a flexible number of neurons (you can experiment with this).\n",
        "*   An output layer with neurons corresponding to the number of classes in the dataset.\n",
        "\n",
        "Train the MLP model using the following settings:\n",
        "*   Use two different activation functions for the hidden layers (e.g., ReLU and Sigmoid).\n",
        "*   Use at least two different loss functions (e.g., Cross-Entropy and Mean Squared Error).\n",
        "*   Experiment with various hyperparameters like learning rate, batch size, and the number of hidden neurons.\n",
        "\n",
        "For each combination of activation function and loss function, train the model and evaluate its performance on the validation set using appropriate metrics (e.g., accuracy, F1-score).\n",
        "\n",
        "Report the following for each combination:\n",
        "*   Accuracy on the validation set.\n",
        "*   F1-score on the validation set.\n",
        "*   Confusion Matrix.\n",
        "\n",
        "4. **Implement a CNN model**\n",
        "\n",
        "Implement a 2D CNN model with the following specifications:\n",
        "\n",
        "*   Convolutional layers with appropriate filters and kernel sizes.\n",
        "*   At least one fully connected (dense) layer.\n",
        "*   An output layer with neurons corresponding to the number of classes in the dataset.\n",
        "\n",
        "Train the CNN model using the following settings:\n",
        "*   Use two different activation functions for the convolutional and dense layers (e.g., ReLU and Tanh).\n",
        "*   Use at least two different loss functions (e.g., Cross-Entropy and Categorical Hinge Loss).\n",
        "*   Experiment with various hyperparameters like learning rate, batch size, and the number of filters.\n",
        "\n",
        "For each combination of activation function and loss function, train the model and evaluate its performance on the validation set using appropriate metrics (e.g., accuracy, F1-score).\n",
        "\n",
        "Report the following for each combination:\n",
        "*   Accuracy on the validation set.\n",
        "*   F1-score on the validation set.\n",
        "*   Confusion Matrix."
      ],
      "metadata": {
        "id": "QUoMW8UzcLcO"
      }
    },
    {
      "cell_type": "code",
      "source": [
        "# Write your code here"
      ],
      "metadata": {
        "id": "2FBUDCVIWC8X"
      },
      "execution_count": null,
      "outputs": []
    },
    {
      "cell_type": "markdown",
      "source": [
        "## Problem 2 (5 marks)"
      ],
      "metadata": {
        "id": "qMLBBS5ZGWUU"
      }
    },
    {
      "cell_type": "markdown",
      "source": [
        "\n",
        "1.  Write an essay to explain the MLOps Lifecycle, including the integration of DevOps, DataOps, and ModelOps. Save it in a file named \"README.md\" (\"README.txt\")\n",
        "2.   Create a public github repository.\n",
        "3.   Commit the file containing the essay (in \"step 1\") to the main branch.\n",
        "4.   Create and checkout to a new branch.\n",
        "5.   Edit the \"README.md\" file and make some changes.\n",
        "6.   Commit the changes to the new branch and send a pull request to the main branch.\n",
        "\n",
        "Share the github repository url in the assignment.\n",
        "\n",
        "Make sure to not make any changes to the repository after the due date. Penalty will be same as the earlier and the last edited time will be considered for it."
      ],
      "metadata": {
        "id": "9oTgt989X6-9"
      }
    },
    {
      "cell_type": "markdown",
      "source": [
        "\n",
        "\n",
        "```\n",
        "# Write your answers here\n",
        "```\n",
        "\n"
      ],
      "metadata": {
        "id": "QUsHZHuRWDsJ"
      }
    }
  ]
}